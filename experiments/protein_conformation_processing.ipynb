{
 "cells": [
  {
   "cell_type": "markdown",
   "metadata": {},
   "source": [
    "# Processing molecular dynamics trajectories #"
   ]
  },
  {
   "cell_type": "markdown",
   "metadata": {},
   "source": [
    "In this experiment we showcase how the tools from Riemannian geometry help us understand protein data sets. In particular, we want to show how \n",
    "* having geodesics under a suitable Riemannian metric can preserve important features of the data\n",
    "* having a suitable notion of distance is useful in computing a natural mean of the data\n",
    "* having a logarithmic mappings is useful in dimension reduction and having an exponential mapping is useful for visualizing the subspace"
   ]
  },
  {
   "cell_type": "code",
   "execution_count": 22,
   "metadata": {
    "pycharm": {
     "is_executing": true
    }
   },
   "outputs": [
    {
     "name": "stdout",
     "output_type": "stream",
     "text": [
      "/home/sc.uni-leipzig.de/nq194gori/github/Riemannian-geometry-for-efficient-analysis-of-protein-dynamics-data\n",
      "/home/sc.uni-leipzig.de/nq194gori/github/Riemannian-geometry-for-efficient-analysis-of-protein-dynamics-data/experiments\n"
     ]
    }
   ],
   "source": [
    "import mdtraj as md\n",
    "import numpy as np\n",
    "import torch\n",
    "import os\n",
    "import matplotlib.pyplot as plt\n",
    "import sys\n",
    "\n",
    "plt.rcParams.update({'font.size': 18})\n",
    "plt.rcParams.update({'figure.autolayout': True})\n",
    "%cd ..    \n",
    "from src.manifolds.pointcloud import PointCloud\n",
    "%cd experiments"
   ]
  },
  {
   "cell_type": "code",
   "execution_count": 23,
   "metadata": {
    "pycharm": {
     "is_executing": true
    }
   },
   "outputs": [],
   "source": [
    "results_folder = os.path.join(os.getcwd(), \"results\")"
   ]
  },
  {
   "cell_type": "markdown",
   "metadata": {},
   "source": [
    "## Load data ##"
   ]
  },
  {
   "cell_type": "code",
   "execution_count": 24,
   "metadata": {
    "pycharm": {
     "is_executing": true
    }
   },
   "outputs": [],
   "source": [
    "struct = 2\n",
    "\n",
    "wd = \"..\"\n",
    "data_folder = os.path.join(\"data\", \"molecular_dynamics\")\n",
    "\n",
    "if struct == 1:\n",
    "    trajectory_path = os.path.join(wd, data_folder, \"4ake\", \"dims0001_fit-core.dcd\")\n",
    "    topology_path = os.path.join(wd, data_folder, \"4ake\", \"adk4ake.psf\")\n",
    "    results_folder = os.path.join(results_folder, \"4ake\")\n",
    "    fig_prefix = \"4ake\"\n",
    "    bbox = 20\n",
    "elif struct == 2:\n",
    "    trajectory_path = os.path.join(wd, data_folder, \"covid_spike\", \"MDtraj_sarscov_2.dcd\")\n",
    "    topology_path = os.path.join(wd, data_folder, \"covid_spike\", \"DESRES-Trajectory_sarscov2-12212688-5-2-no-water.pdb\")\n",
    "    results_folder = os.path.join(results_folder, \"covid_spike\")\n",
    "    fig_prefix = \"covid_spike\"\n",
    "    bbox = 40\n",
    "\n",
    "t = md.load(trajectory_path, top = topology_path)\n",
    "\n",
    "# get Calpha positions\n",
    "indices = []\n",
    "\n",
    "for m in t.topology.atoms_by_name('CA'):\n",
    "    indices.append(m.index)\n",
    "    \n",
    "ca_pos = 10 * torch.tensor(t.xyz[:,indices,:])\n",
    "# if struct == 2:\n",
    "#     ca_pos = ca_pos[0:-1:2]"
   ]
  },
  {
   "cell_type": "code",
   "execution_count": 25,
   "metadata": {
    "pycharm": {
     "is_executing": true
    }
   },
   "outputs": [
    {
     "name": "stdout",
     "output_type": "stream",
     "text": [
      "200\n"
     ]
    }
   ],
   "source": [
    "# construct manifold\n",
    "num_proteins = ca_pos.shape[0] \n",
    "print(num_proteins)\n",
    "protein_len = ca_pos.shape[1]\n",
    "manifold = PointCloud(3, protein_len, base=ca_pos[0], alpha=1.)\n",
    "# constuct rotation matrix\n",
    "rot_xz = torch.zeros(3,3)\n",
    "rot_xz[2,0] = 1.\n",
    "rot_xz[1,1] = 1.\n",
    "rot_xz[0,2] = -1.\n",
    "manifold.base_point = torch.einsum(\"ba,ia->ib\", rot_xz, manifold.base_point)\n",
    "rot_xy = torch.zeros(3,3)\n",
    "theta = torch.tensor([- torch.pi * 1/3])\n",
    "rot_xy[0,0] = torch.cos(theta)\n",
    "rot_xy[0,1] = - torch.sin(theta)\n",
    "rot_xy[1,0] = torch.sin(theta)\n",
    "rot_xy[1,1] = torch.cos(theta)\n",
    "rot_xy[2,2] = 1.\n",
    "manifold.base_point = torch.einsum(\"ba,ia->ib\", rot_xy, manifold.base_point)"
   ]
  },
  {
   "cell_type": "code",
   "execution_count": 26,
   "metadata": {
    "pycharm": {
     "is_executing": true
    }
   },
   "outputs": [],
   "source": [
    "# align all proteins with base\n",
    "proteins = manifold.align_mpoint(ca_pos[None], base=manifold.base_point).squeeze()"
   ]
  },
  {
   "cell_type": "code",
   "execution_count": null,
   "metadata": {},
   "outputs": [],
   "source": [
    "proteins.shape"
   ]
  },
  {
   "cell_type": "markdown",
   "metadata": {},
   "source": [
    "## Separation-geodesic interpolating ##"
   ]
  },
  {
   "cell_type": "code",
   "execution_count": null,
   "metadata": {
    "pycharm": {
     "is_executing": true
    }
   },
   "outputs": [],
   "source": [
    "t_steps = 21\n",
    "p0 = proteins[0]\n",
    "p1 = proteins[-1]\n",
    "T = torch.linspace(0,1,t_steps) # torch.tensor([1/4,1/2,3/4]) # torch.tensor([1/2])\n",
    "pt = torch.zeros(t_steps, protein_len, 3)\n",
    "mdt = torch.zeros(t_steps, protein_len, 3)\n",
    "for i,t in enumerate(T):\n",
    "    print(f\"computing geodesic {i+1}\")\n",
    "    md_ind = int(i/(t_steps-1) * (num_proteins-1))\n",
    "    pt[i] = manifold.s_geodesic(p0[None,None], p1[None,None], torch.tensor([t]), debug=True).squeeze()\n",
    "    mdt[i] = proteins[md_ind]\n",
    "    \n",
    "%timeit manifold.s_geodesic(p0[None,None], p1[None,None], torch.tensor([T[int(t_steps/2)]]))"
   ]
  },
  {
   "cell_type": "code",
   "execution_count": 27,
   "metadata": {},
   "outputs": [
    {
     "name": "stdout",
     "output_type": "stream",
     "text": [
      "computing geodesic 1\n",
      "computing geodesic 2\n",
      "computing geodesic 3\n",
      "computing geodesic 4\n",
      "computing geodesic 5\n",
      "computing geodesic 6\n",
      "computing geodesic 7\n",
      "computing geodesic 8\n",
      "computing geodesic 9\n",
      "computing geodesic 10\n",
      "computing geodesic 11\n",
      "computing geodesic 12\n",
      "computing geodesic 13\n",
      "computing geodesic 14\n",
      "computing geodesic 15\n",
      "computing geodesic 16\n",
      "computing geodesic 17\n",
      "computing geodesic 18\n",
      "computing geodesic 19\n",
      "computing geodesic 21\n",
      "computing geodesic 20\n"
     ]
    }
   ],
   "source": [
    "import torch.multiprocessing as mp\n",
    "\n",
    "def compute_geodesic(i, t, p0, p1, pt, mdt, manifold, proteins, num_proteins, t_steps):\n",
    "    print(f\"computing geodesic {i+1}\")\n",
    "    md_ind = int(i/(t_steps-1) * (num_proteins-1))\n",
    "    pt[i] = manifold.s_geodesic(p0[None,None], p1[None,None], torch.tensor([t]), debug=True).squeeze()\n",
    "    mdt[i] = proteins[md_ind]\n",
    "\n",
    "t_steps = 21\n",
    "p0 = proteins[0]\n",
    "p1 = proteins[-1]\n",
    "T = torch.linspace(0,1,t_steps)\n",
    "\n",
    "pt = mp.Array('f', t_steps * protein_len * 3)\n",
    "pt = torch.from_numpy(np.frombuffer(pt.get_obj(), dtype=np.float32).reshape(t_steps, protein_len, 3))\n",
    "\n",
    "mdt = mp.Array('f', t_steps * protein_len * 3)\n",
    "mdt = torch.from_numpy(np.frombuffer(mdt.get_obj(), dtype=np.float32).reshape(t_steps, protein_len, 3))\n",
    "\n",
    "processes = []\n",
    "for i, t in enumerate(T):\n",
    "    p = mp.Process(target=compute_geodesic, args=(i, t, p0, p1, pt, mdt, manifold, proteins, num_proteins, t_steps))\n",
    "    p.start()\n",
    "    processes.append(p)\n",
    "\n",
    "# Wait for all processes to finish\n",
    "for p in processes:\n",
    "    p.join()\n",
    "\n",
    "%timeit manifold.s_geodesic(p0[None,None], p1[None,None], torch.tensor([T[int(t_steps/2)]]))"
   ]
  },
  {
   "cell_type": "code",
   "execution_count": null,
   "metadata": {
    "pycharm": {
     "is_executing": true
    }
   },
   "outputs": [],
   "source": [
    "# Plot \n",
    "formt = '.png'\n",
    "num_figs = 5\n",
    "fig_size = 31 * (protein_len/214) ** (1/3) # cm\n",
    "\n",
    "for i in range(num_figs):\n",
    "    g_ind = int(i/(num_figs-1) * (t_steps-1))\n",
    "    fig = plt.figure(figsize=(fig_size/5, fig_size/5))\n",
    "    ax = plt.axes(projection='3d')\n",
    "    ax.plot3D(pt[g_ind,:,0],pt[g_ind,:,1],pt[g_ind,:,2], 'black')\n",
    "    ax.scatter(pt[g_ind,:,0],pt[g_ind,:,1],pt[g_ind,:,2], c = torch.linspace(0,1,protein_len), cmap = 'rainbow')\n",
    "    ax.axes.set_xlim3d(left=-bbox, right=bbox) \n",
    "    ax.axes.set_ylim3d(bottom=-bbox, top=bbox) \n",
    "    ax.axes.set_zlim3d(bottom=-bbox, top=bbox) \n",
    "    ax.set_axis_off() \n",
    "    extent = ax.get_window_extent().transformed(fig.dpi_scale_trans.inverted())\n",
    "    plt.savefig(os.path.join(results_folder,fig_prefix +f'_{g_ind}f{t_steps-1}_geo'+formt), bbox_inches=extent.expanded(0.8, 0.8))\n",
    "plt.show()\n",
    "\n",
    "\n",
    "for i in range(num_figs):\n",
    "    g_ind = int(i/(num_figs-1) * (t_steps-1))\n",
    "    md_ind = int(i/(num_figs-1) * (num_proteins-1))\n",
    "    fig = plt.figure(figsize=(fig_size/5, fig_size/5))\n",
    "    ax = plt.axes(projection='3d')\n",
    "    ax.plot3D(mdt[g_ind,:,0],mdt[g_ind,:,1],mdt[g_ind,:,2], 'black')\n",
    "    ax.scatter(mdt[g_ind,:,0],mdt[g_ind,:,1],mdt[g_ind,:,2], c = torch.linspace(0,1,protein_len), cmap = 'rainbow')\n",
    "    ax.axes.set_xlim3d(left=-bbox, right=bbox) \n",
    "    ax.axes.set_ylim3d(bottom=-bbox, top=bbox) \n",
    "    ax.axes.set_zlim3d(bottom=-bbox, top=bbox) \n",
    "    ax.set_axis_off() \n",
    "    extent = ax.get_window_extent().transformed(fig.dpi_scale_trans.inverted())\n",
    "    plt.savefig(os.path.join(results_folder,fig_prefix +f'_{g_ind}f{t_steps-1}_md_{md_ind}'+formt), bbox_inches=extent.expanded(0.8, 0.8))\n",
    "plt.show()"
   ]
  },
  {
   "cell_type": "code",
   "execution_count": null,
   "metadata": {
    "pycharm": {
     "is_executing": true
    }
   },
   "outputs": [],
   "source": [
    "# compute RMSD in Anstrom for geodesics vs trajectory\n",
    "rmsd_T = torch.sqrt(torch.sum((pt - mdt) ** 2,[1,2]) / protein_len)\n",
    "\n",
    "# plot \n",
    "fig_size = 21 # cm\n",
    "plt.figure(figsize=(fig_size/4, fig_size/4))\n",
    "plt.plot(T, rmsd_T, 'tab:red')\n",
    "plt.xlim([0,1])\n",
    "plt.ylim([0,rmsd_T.max()+1])\n",
    "plt.xlabel(r'$t$')\n",
    "plt.ylabel(r'RMSD from MD simulation ($\\AA$)')\n",
    "# save figure\n",
    "plt.savefig(os.path.join(results_folder,fig_prefix +f'_RMSD_progression_md'+formt))\n",
    "plt.show\n"
   ]
  },
  {
   "cell_type": "code",
   "execution_count": null,
   "metadata": {
    "pycharm": {
     "is_executing": true
    }
   },
   "outputs": [],
   "source": [
    "d_T = torch.sqrt(torch.sum((pt - mdt) ** 2, -1))\n",
    "d_total = torch.sqrt(torch.sum((proteins[0] - proteins[-1]) ** 2, -1))\n",
    "\n",
    "max_error = int(torch.max(d_T)) + 1\n",
    "max_displacement = int(torch.max(d_total)) + 1\n",
    "\n",
    "num_figs = 3\n",
    "fig_size = 21 # cm\n",
    "for i in range(num_figs):\n",
    "    g_ind = int((i+1)/(num_figs+1) * (t_steps-1))\n",
    "    ax = plt.figure(figsize=(fig_size/4, fig_size/4))\n",
    "    plt.hist(d_T[g_ind][None], bins=50)\n",
    "    plt.xlim([0, max_error])\n",
    "    plt.ylabel('Frequency')\n",
    "    plt.xlabel(r'Deviation from MD simulation ($\\AA$)')\n",
    "plt.show()\n",
    "\n",
    "# fig = plt.figure(figsize=(fig_size, fig_size/num_figs))\n",
    "for i in range(num_figs):\n",
    "    g_ind = int((i+1)/(num_figs+1) * (t_steps-1))\n",
    "    md_ind = int((i+1)/(num_figs+1) * (num_proteins-1))\n",
    "    plt.figure(figsize=(fig_size/4, fig_size/4))\n",
    "    plt.scatter(d_total,d_T[g_ind], c = torch.linspace(0,1,protein_len), cmap = 'rainbow')\n",
    "    plt.ylim([0, max_error])\n",
    "    plt.xlim([0, max_displacement])\n",
    "    plt.xlabel(r'Total displacement ($\\AA$)')\n",
    "    plt.ylabel(r'Deviation from MD simulation ($\\AA$)')\n",
    "    # save figure\n",
    "    plt.savefig(os.path.join(results_folder,fig_prefix +f'_displacement_vs_error_{g_ind}f{t_steps-1}_md_{md_ind}'+formt))\n",
    "plt.show()"
   ]
  },
  {
   "cell_type": "code",
   "execution_count": null,
   "metadata": {
    "pycharm": {
     "is_executing": true
    }
   },
   "outputs": [],
   "source": [
    "pt_pairwise_distances = manifold.pairwise_distances(pt[None]).squeeze()\n",
    "pt_adj_pairwise_distances = torch.diagonal(pt_pairwise_distances,offset=1, dim1=1, dim2=2)\n",
    "\n",
    "num_figs = 3\n",
    "fig_size = 21 # cm\n",
    "\n",
    "for i in range(num_figs):\n",
    "    plt.figure(figsize=(fig_size, fig_size/4))\n",
    "    g_ind = int((i+1)/(num_figs+1) * (t_steps-1))\n",
    "    plt.plot(range(protein_len-1), torch.sqrt(pt_adj_pairwise_distances[0]), label=r'$t=0$')\n",
    "    plt.plot(range(protein_len-1), torch.sqrt(pt_adj_pairwise_distances[g_ind]), label=r'$t=$' +f'{T[g_ind]}')\n",
    "    plt.plot(range(protein_len-1), torch.sqrt(pt_adj_pairwise_distances[-1]), label=r'$t=1$')\n",
    "    plt.xlim([0, protein_len-2])\n",
    "    plt.ylim([2.8,4.8])\n",
    "    plt.ylabel(r'$\\|\\|\\mathbf{x}_i - \\mathbf{x}_{i+1}\\|\\|_2$ ($\\AA$)')\n",
    "    plt.xlabel(r'$i$')\n",
    "    plt.legend()\n",
    "    # save figure\n",
    "    plt.savefig(os.path.join(results_folder,fig_prefix +f'_adjacent_residue_{g_ind}f{t_steps-1}'+formt)) \n",
    "plt.show()"
   ]
  },
  {
   "cell_type": "markdown",
   "metadata": {},
   "source": [
    "## Separation-barycentre of the trajectory ##"
   ]
  },
  {
   "cell_type": "code",
   "execution_count": null,
   "metadata": {
    "pycharm": {
     "is_executing": true
    }
   },
   "outputs": [],
   "source": [
    "p_barycentre = manifold.s_mean(proteins[None], x0=proteins[int(num_proteins/2)][None,None], debug=True).squeeze()\n",
    "%timeit manifold.s_mean(proteins[None], x0=proteins[int(num_proteins/2)][None,None]).squeeze()"
   ]
  },
  {
   "cell_type": "code",
   "execution_count": null,
   "metadata": {
    "pycharm": {
     "is_executing": true
    }
   },
   "outputs": [],
   "source": [
    "p_barycentre_pairwise_distances = manifold.pairwise_distances(p_barycentre[None,None]).squeeze()\n",
    "p_barycentre_adj_pairwise_distances = torch.diagonal(p_barycentre_pairwise_distances,1)"
   ]
  },
  {
   "cell_type": "code",
   "execution_count": null,
   "metadata": {
    "pycharm": {
     "is_executing": true
    }
   },
   "outputs": [],
   "source": [
    "fig_size = 31 * (protein_len/214) ** (1/3) # cm\n",
    "\n",
    "fig = plt.figure(figsize=(fig_size/5, fig_size/5))\n",
    "ax = plt.axes(projection='3d')\n",
    "ax.plot3D(p_barycentre[:,0], p_barycentre[:,1], p_barycentre[:,2], 'black')\n",
    "ax.scatter(p_barycentre[:,0], p_barycentre[:,1], p_barycentre[:,2], c = torch.linspace(0,1,protein_len), cmap = 'rainbow')\n",
    "ax.axes.set_xlim3d(left=-bbox, right=bbox) \n",
    "ax.axes.set_ylim3d(bottom=-bbox, top=bbox) \n",
    "ax.axes.set_zlim3d(bottom=-bbox, top=bbox) \n",
    "ax.set_axis_off() \n",
    "extent = ax.get_window_extent().transformed(fig.dpi_scale_trans.inverted())\n",
    "plt.savefig(os.path.join(results_folder,f'4ake_barycentre'+formt), bbox_inches=extent.expanded(0.8, 0.8))\n",
    "plt.show()\n",
    "\n",
    "fig_size = 21 # cm\n",
    "plt.figure(figsize=(fig_size, fig_size/4))\n",
    "plt.plot(range(protein_len-1), torch.sqrt(p_barycentre_adj_pairwise_distances), color='tab:orange')\n",
    "plt.xlim([0, protein_len-2])\n",
    "plt.ylim([2.8,4.8])\n",
    "plt.ylabel(r'$\\|\\|\\mathbf{x}_i - \\mathbf{x}_{i+1}\\|\\|_2$ ($\\AA$)')\n",
    "plt.xlabel(r'$i$')\n",
    "# save figure\n",
    "# extent = ax.get_window_extent().transformed(fig.dpi_scale_trans.inverted())\n",
    "plt.savefig(os.path.join(results_folder,fig_prefix +f'_adjacent_residue_barycentre'+formt)) \n",
    "plt.show()"
   ]
  },
  {
   "cell_type": "markdown",
   "metadata": {},
   "source": [
    "## Separation-logarithmic map for low rank approximation ##"
   ]
  },
  {
   "cell_type": "code",
   "execution_count": null,
   "metadata": {
    "pycharm": {
     "is_executing": true
    }
   },
   "outputs": [],
   "source": [
    "# compute logs to all points from pt\n",
    "log_p_barycentre = manifold.s_log(p_barycentre[None,None], proteins[None]).squeeze()\n",
    "%timeit manifold.s_log(p_barycentre[None,None], proteins[None]).squeeze()"
   ]
  },
  {
   "cell_type": "code",
   "execution_count": null,
   "metadata": {
    "pycharm": {
     "is_executing": true
    }
   },
   "outputs": [],
   "source": [
    "# compute gramm matrix\n",
    "# Gramm_mat = manifold.inner(p_barycentre[None,None], log_p_barycentre[None,None],log_p_barycentre[None,None]).squeeze()\n",
    "Gramm_mat = torch.einsum(\"Nia,Mia->NM\",log_p_barycentre,log_p_barycentre)\n",
    "L, U = torch.linalg.eigh(Gramm_mat)\n",
    "R_p_barycentre = torch.einsum(\"NM,Nia->Mia\", U, log_p_barycentre)\n",
    "\n",
    "# print eigenvalues\n",
    "print(L)\n",
    "th = 0.85\n",
    "rank = int(torch.linspace(1,len(L),len(L))[L.flip(0).cumsum(0)/L.sum() > th].min())\n",
    "print(rank)\n",
    "\n",
    "plt.figure()\n",
    "plt.plot(torch.linspace(1,len(L),len(L)), L.flip(0).cumsum(0)/L.sum())\n",
    "plt.xlim([1, len(L)])\n",
    "plt.ylim([0, 1])\n",
    "plt.show()"
   ]
  },
  {
   "cell_type": "code",
   "execution_count": null,
   "metadata": {
    "pycharm": {
     "is_executing": true
    }
   },
   "outputs": [],
   "source": [
    "s = 0.2\n",
    "fig_size = 31 * (protein_len/214) ** (1/3) # cm\n",
    "num_figs = rank +2\n",
    "for i in range(num_figs):\n",
    "    plt.figure(figsize=(fig_size/5, fig_size/5))\n",
    "    ax = plt.axes(projection='3d')\n",
    "    ax.plot3D(p_barycentre[:,0], p_barycentre[:,1], p_barycentre[:,2], 'black')\n",
    "    ax.scatter(p_barycentre[:,0], p_barycentre[:,1], p_barycentre[:,2], c = torch.linspace(0,1,protein_len), cmap = 'rainbow')\n",
    "    ax.quiver(p_barycentre[:, 0], p_barycentre[:, 1], p_barycentre[:, 2], s * R_p_barycentre[-(i+1),:, 0], s * R_p_barycentre[-(i+1),:, 1], s * R_p_barycentre[-(i+1),:, 2],color='tab:orange')\n",
    "    ax.axes.set_xlim3d(left=-bbox, right=bbox) \n",
    "    ax.axes.set_ylim3d(bottom=-bbox, top=bbox) \n",
    "    ax.axes.set_zlim3d(bottom=-bbox, top=bbox) \n",
    "    ax.set_axis_off() \n",
    "    extent = ax.get_window_extent().transformed(fig.dpi_scale_trans.inverted())\n",
    "    plt.savefig(os.path.join(results_folder,fig_prefix +f'_barycentre_tvector_{i}'+formt), bbox_inches=extent.expanded(0.8, 0.8))\n",
    "plt.show()"
   ]
  },
  {
   "cell_type": "code",
   "execution_count": null,
   "metadata": {
    "pycharm": {
     "is_executing": true
    }
   },
   "outputs": [],
   "source": [
    "log_p_barycentre_r = torch.einsum(\"Mia,NM->Nia\", R_p_barycentre[num_proteins-rank:num_proteins],U[:,num_proteins-rank:num_proteins])\n",
    "\n",
    "log_p_barycentre_t = torch.zeros(t_steps, protein_len, 3)\n",
    "log_p_barycentre_t_r = torch.zeros(t_steps, protein_len, 3)\n",
    "mdt_r = torch.zeros(t_steps, protein_len, 3)\n",
    "for i in range(t_steps):\n",
    "    md_ind = int(i/(t_steps-1) * (num_proteins-1))\n",
    "    print(f\"computing approximation of protein {md_ind}\")\n",
    "    log_p_barycentre_t[i] = log_p_barycentre[md_ind]\n",
    "    log_p_barycentre_t_r[i] = log_p_barycentre_r[md_ind]\n",
    "    mdt_r[i] = manifold.s_exp(p_barycentre[None,None], log_p_barycentre_r[md_ind][None,None], c=1/4, step_size=1., debug=True).squeeze()\n",
    "%timeit manifold.s_exp(p_barycentre[None,None], log_p_barycentre_r[md_ind][None,None], c=1/4, step_size=1.).squeeze()"
   ]
  },
  {
   "cell_type": "code",
   "execution_count": null,
   "metadata": {
    "pycharm": {
     "is_executing": true
    }
   },
   "outputs": [],
   "source": [
    "fig_size = 31 * (protein_len/214) ** (1/3) # cm\n",
    "num_figs=5\n",
    "for i in range(num_figs):\n",
    "    g_ind = int(i/(num_figs-1) * (t_steps-1))\n",
    "    md_ind = int(i/(num_figs-1) * (num_proteins-1))\n",
    "    fig = plt.figure(figsize=(fig_size/5, fig_size/5))\n",
    "    ax = plt.axes(projection='3d')\n",
    "    ax.plot3D(mdt_r[g_ind,:,0],mdt_r[g_ind,:,1],mdt_r[g_ind,:,2], 'black')\n",
    "    ax.scatter(mdt_r[g_ind,:,0],mdt_r[g_ind,:,1],mdt_r[g_ind,:,2], c = torch.linspace(0,1,protein_len), cmap = 'rainbow')\n",
    "    ax.axes.set_xlim3d(left=-bbox, right=bbox) \n",
    "    ax.axes.set_ylim3d(bottom=-bbox, top=bbox) \n",
    "    ax.axes.set_zlim3d(bottom=-bbox, top=bbox) \n",
    "    ax.set_axis_off() \n",
    "    extent = ax.get_window_extent().transformed(fig.dpi_scale_trans.inverted())\n",
    "    plt.savefig(os.path.join(results_folder,fig_prefix +f'_rank_{rank}_{g_ind}f{t_steps-1}_md_{md_ind}'+formt), bbox_inches=extent.expanded(0.8, 0.8))\n",
    "plt.show()\n",
    "\n",
    "# compute RMSD in Anstrom for geodesics vs trajectory\n",
    "rmsd_T_r = torch.sqrt(torch.sum((mdt_r - mdt) ** 2,[1,2]) / protein_len)\n",
    "\n",
    "# scatter plot \n",
    "\n",
    "fig_size = 21 # cm\n",
    "plt.figure(figsize=(fig_size/4, fig_size/4))\n",
    "plt.plot(T, rmsd_T_r, 'tab:red')\n",
    "plt.xlim([0,1])\n",
    "plt.ylim([0,rmsd_T.max()+1])\n",
    "plt.xlabel(r'$t$')\n",
    "plt.ylabel(r'RMSD from MD simulation ($\\AA$)')\n",
    "# save figure\n",
    "# extent = ax.get_window_extent().transformed(fig.dpi_scale_trans.inverted())\n",
    "plt.savefig(os.path.join(results_folder,fig_prefix +f'_RMSD_progression_rank_{rank}'+formt))\n",
    "plt.show"
   ]
  },
  {
   "cell_type": "code",
   "execution_count": null,
   "metadata": {
    "pycharm": {
     "is_executing": true
    }
   },
   "outputs": [],
   "source": [
    "d_T_r = torch.sqrt(torch.sum((mdt_r - mdt) ** 2, -1))\n",
    "\n",
    "# max_error = int(torch.max(d_T_r)) + 1\n",
    "max_displacement = int(torch.max(d_total)) + 1\n",
    "\n",
    "num_figs = 5\n",
    "fig_size = 21 # cm\n",
    "for i in range(num_figs):\n",
    "    g_ind = int(i/(num_figs-1) * (t_steps-1))\n",
    "    ax = plt.figure(figsize=(fig_size/4, fig_size/4))\n",
    "    plt.hist(d_T_r[g_ind][None], bins=50)\n",
    "    plt.xlim([0, max_error])\n",
    "    plt.ylabel('Frequency')\n",
    "    plt.xlabel(r'Deviation from MD simulation ($\\AA$)')\n",
    "plt.show()\n",
    "\n",
    "for i in range(num_figs):\n",
    "    g_ind = int(i/(num_figs-1) * (t_steps-1))\n",
    "    md_ind = int(i/(num_figs-1) * (num_proteins-1))\n",
    "    plt.figure(figsize=(fig_size/4, fig_size/4))\n",
    "    plt.scatter(d_total,d_T_r[g_ind], c = torch.linspace(0,1,protein_len), cmap = 'rainbow')\n",
    "    plt.ylim([0, max_error])\n",
    "    plt.xlim([0, max_displacement])\n",
    "    plt.xlabel(r'Total displacement ($\\AA$)')\n",
    "    plt.ylabel(r'Deviation from MD simulation ($\\AA$)')\n",
    "    # save figure\n",
    "    plt.savefig(os.path.join(results_folder,fig_prefix +f'_displacement_vs_error_rank_{rank}_md_{md_ind}'+formt))\n",
    "plt.show()"
   ]
  },
  {
   "cell_type": "code",
   "execution_count": null,
   "metadata": {
    "pycharm": {
     "is_executing": true
    }
   },
   "outputs": [],
   "source": [
    "mdt_r_pairwise_distances = manifold.pairwise_distances(mdt_r[None]).squeeze()\n",
    "mdt_r_adj_pairwise_distances = torch.diagonal(mdt_r_pairwise_distances,offset=1, dim1=1, dim2=2)\n",
    "\n",
    "num_figs = 5\n",
    "fig_size = 21 # cm\n",
    "\n",
    "for i in range(num_figs):\n",
    "    plt.figure(figsize=(fig_size, fig_size/4))\n",
    "    g_ind = int(i/(num_figs-1) * (t_steps-1))\n",
    "    plt.plot(range(protein_len-1), torch.sqrt(mdt_r_adj_pairwise_distances[g_ind]), color='tab:orange')\n",
    "    plt.xlim([0, protein_len-2])\n",
    "    plt.ylim([2.8,4.8])\n",
    "    plt.ylabel(r'$\\|\\|\\mathbf{x}_i - \\mathbf{x}_{i+1}\\|\\|_2$ ($\\AA$)')\n",
    "    plt.xlabel(r'$i$')\n",
    "    # save figure\n",
    "    plt.savefig(os.path.join(results_folder,fig_prefix +f'_adjacent_residue_{g_ind}f{t_steps-1}_mdt_r_rank_{rank}'+formt)) \n",
    "plt.show()"
   ]
  },
  {
   "cell_type": "markdown",
   "metadata": {
    "pycharm": {
     "is_executing": true
    }
   },
   "source": [
    "## Stability with respect to curvature ##"
   ]
  },
  {
   "cell_type": "code",
   "execution_count": null,
   "metadata": {
    "pycharm": {
     "is_executing": true
    }
   },
   "outputs": [],
   "source": [
    "# so first we want to do geodesic variation\n",
    "# start from different starting points in the data and go to same end\n",
    "v_index = 3\n",
    "pt_v0 = torch.zeros(t_steps, protein_len, 3)\n",
    "pt_v1 = torch.zeros(t_steps, protein_len, 3)\n",
    "p0_v = proteins[v_index]\n",
    "p1_v = proteins[-1 - v_index]\n",
    "for i,t in enumerate(T):\n",
    "    print(f\"computing geodesic {i+1} of variation {v_index}\")\n",
    "    pt_v0[i] = manifold.s_geodesic(p0_v[None,None], p1[None,None], torch.tensor([t]), debug=True).squeeze()\n",
    "    pt_v1[i] = manifold.s_geodesic(p0[None,None], p1_v[None,None], torch.tensor([t]), debug=True).squeeze()"
   ]
  },
  {
   "cell_type": "code",
   "execution_count": null,
   "metadata": {
    "pycharm": {
     "is_executing": true
    }
   },
   "outputs": [],
   "source": [
    "# compute RMSD in Anstrom for geodesics vs trajectory\n",
    "rmsd_T_v0 = torch.sqrt(torch.sum((pt - pt_v0) ** 2,[1,2]) / protein_len)\n",
    "rmsd_T_v1 = torch.sqrt(torch.sum((pt - pt_v1) ** 2,[1,2]) / protein_len)\n",
    "\n",
    "# plot \n",
    "fig_size = 21 # cm\n",
    "plt.figure(figsize=(fig_size/3, fig_size/3))\n",
    "plt.plot(T[1:-1], (rmsd_T_v0 - (1 - T)*rmsd_T_v0[0])[1:-1]/rmsd_T_v0[0])\n",
    "plt.xlim([0,1])\n",
    "plt.ylim([-0.12,0.12])\n",
    "plt.xlabel(r'$t$')\n",
    "plt.ylabel(r'Relative discrepancy from zero-curvature baseline')\n",
    "# save figure\n",
    "plt.savefig(os.path.join(results_folder,fig_prefix +f'_RMSD_progression_v0'+formt))\n",
    "plt.show\n",
    "\n",
    "# plot \n",
    "fig_size = 21 # cm\n",
    "plt.figure(figsize=(fig_size/3, fig_size/3))\n",
    "plt.plot(T[1:-1], (rmsd_T_v1 - T*rmsd_T_v1[-1])[1:-1]/rmsd_T_v1[-1])\n",
    "plt.xlim([0,1])\n",
    "plt.ylim([-0.12,0.12])\n",
    "plt.xlabel(r'$t$')\n",
    "plt.ylabel(r'Relative discrepancy from zero-curvature baseline')\n",
    "# save figure\n",
    "plt.savefig(os.path.join(results_folder,fig_prefix +f'_RMSD_progression_v1'+formt))\n",
    "plt.show\n"
   ]
  },
  {
   "cell_type": "code",
   "execution_count": null,
   "metadata": {
    "pycharm": {
     "is_executing": true
    }
   },
   "outputs": [],
   "source": [
    "trmsd_T_r = torch.sqrt(torch.sum((log_p_barycentre_t_r - log_p_barycentre_t) ** 2,[1,2]) / protein_len)\n",
    "trmsd_T_r_0 = torch.sqrt(torch.sum(log_p_barycentre_t ** 2,[1,2]) / protein_len)\n",
    "\n",
    "fig_size = 21 # cm\n",
    "plt.figure(figsize=(fig_size/3, fig_size/3))\n",
    "plt.plot(T, (rmsd_T_r - trmsd_T_r)/trmsd_T_r_0)\n",
    "plt.xlim([0,1])\n",
    "plt.ylim([-0.12,0.12])\n",
    "plt.xlabel(r'$t$')\n",
    "plt.ylabel(r'Relative discrepancy from zero-curvature baseline')\n",
    "# save figure\n",
    "plt.savefig(os.path.join(results_folder,fig_prefix +f'_RMSD_and_TRMSD_progression_rank_{rank}'+formt))\n",
    "plt.show"
   ]
  },
  {
   "cell_type": "code",
   "execution_count": null,
   "metadata": {
    "pycharm": {
     "is_executing": true
    }
   },
   "outputs": [],
   "source": []
  }
 ],
 "metadata": {
  "kernelspec": {
   "display_name": "Python 3",
   "language": "python",
   "name": "python3"
  },
  "language_info": {
   "codemirror_mode": {
    "name": "ipython",
    "version": 3
   },
   "file_extension": ".py",
   "mimetype": "text/x-python",
   "name": "python",
   "nbconvert_exporter": "python",
   "pygments_lexer": "ipython3",
   "version": "3.8.17"
  }
 },
 "nbformat": 4,
 "nbformat_minor": 2
}
